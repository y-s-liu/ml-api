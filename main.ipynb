{
 "cells": [
  {
   "cell_type": "code",
   "execution_count": 3,
   "source": [
    "import base64\n",
    "import requests,json\n",
    "from PIL import Image\n",
    "import numpy as np\n",
    "import cv2\n",
    "import matplotlib.pyplot as plt\n",
    "import random\n",
    "\n",
    "COCO_INSTANCE_CATEGORY_train2017 = [\n",
    "    'person', 'bicycle', 'car', 'motorcycle', 'airplane', 'bus', 'train', 'truck', 'boat', 'traffic light', 'fire hydrant', 'stop sign', 'parking meter', 'bench', 'bird', 'cat', 'dog', 'horse', 'sheep', 'cow', 'elephant', 'bear', 'zebra', 'giraffe', 'backpack', 'umbrella', 'handbag', 'tie', 'suitcase', 'frisbee', 'skis', 'snowboard', 'sports ball', 'kite', 'baseball bat', 'baseball glove', 'skateboard', 'surfboard', 'tennis racket', 'bottle', 'wine glass', 'cup', 'fork', 'knife', 'spoon', 'bowl', 'banana', 'apple', 'sandwich', 'orange', 'broccoli', 'carrot', 'hot dog', 'pizza', 'donut', 'cake', 'chair', 'couch', 'potted plant', 'bed', 'dining table', 'toilet', 'tv', 'laptop', 'mouse', 'remote', 'keyboard', 'cell phone', 'microwave', 'oven', 'toaster', 'sink', 'refrigerator', 'book', 'clock', 'vase', 'scissors', 'teddy bear', 'hair drier', 'toothbrush'\n",
    "]\n",
    "\n",
    "def sendimage(file_name):\n",
    "    # img 2 base64\n",
    "    with open(file_name, \"rb\") as image_file:\n",
    "        base64str = base64.b64encode(image_file.read()).decode(\"utf-8\")\n",
    "\n",
    "    # send img to api\n",
    "    payload = json.dumps({\n",
    "        \"base64str\": base64str,\n",
    "    })\n",
    "\n",
    "    headers = {\n",
    "        'Content-Type': 'application/json'\n",
    "    }\n",
    "\n",
    "    response = requests.put(\"http://172.16.120.15/proxy/u9e39a57/predict/\",data = payload, headers=headers)\n",
    "    data_dict = response.json()\n",
    "    return data_dict\n",
    "\n",
    "def PILImage_to_cv2(img):\n",
    "    return np.asarray(img)\n",
    "\n",
    "def drawboundingbox(file_name, boxes,pred_cls, rect_th=2, text_size=1, text_th=2):\n",
    "    inpurt_img = Image.open(file_name)\n",
    "    img = PILImage_to_cv2(inpurt_img)\n",
    "    class_color_dict = {}\n",
    "    \n",
    "    #initialize some random colors for each class for better looking bounding boxes\n",
    "    for cat in pred_cls:\n",
    "        class_color_dict[cat] = [random.randint(0, 255) for _ in range(3)]\n",
    "    \n",
    "    for i in range(len(boxes)):\n",
    "        cv2.rectangle(img, (int(boxes[i][0]), int(boxes[i][1])),\n",
    "                      (int(boxes[i][2]),int(boxes[i][3])),\n",
    "                      color=class_color_dict[pred_cls[i]], thickness=rect_th)\n",
    "        cv2.putText(img,str(COCO_INSTANCE_CATEGORY_train2017[pred_cls[i]]), (int(boxes[i][0]), int(boxes[i][1])),  cv2.FONT_HERSHEY_SIMPLEX, text_size, class_color_dict[pred_cls[i]],thickness=text_th) # Write the prediction class\n",
    "    return img\n",
    "\n",
    "def showimage(img):\n",
    "    plt.figure(figsize=(15,20))\n",
    "    plt.axis(\"off\")\n",
    "    plt.imshow(img)\n",
    "    plt.show()\n",
    "\n",
    "def saveimage(img, file_name):\n",
    "    cv2.imwrite(file_name, cv2.cvtColor(img, cv2.COLOR_BGR2RGB))"
   ],
   "outputs": [],
   "metadata": {}
  },
  {
   "cell_type": "code",
   "execution_count": 4,
   "source": [
    "# input image\n",
    "input_file_name = \"test_image.jpg\"\n",
    "output_file_name = 'output.jpg'"
   ],
   "outputs": [],
   "metadata": {}
  },
  {
   "cell_type": "code",
   "execution_count": 5,
   "source": [
    "# model inference\n",
    "image_dict = sendimage(input_file_name)"
   ],
   "outputs": [],
   "metadata": {}
  },
  {
   "cell_type": "code",
   "execution_count": 6,
   "source": [
    "# draw bounding box\n",
    "img = drawboundingbox(input_file_name, image_dict['boxes'], image_dict['classes'])\n",
    "\n",
    "# show image\n",
    "#showimage(img)\n",
    "\n",
    "# save image\n",
    "saveimage(img, output_file_name)"
   ],
   "outputs": [],
   "metadata": {}
  }
 ],
 "metadata": {
  "orig_nbformat": 4,
  "language_info": {
   "name": "python",
   "version": "3.8.5",
   "mimetype": "text/x-python",
   "codemirror_mode": {
    "name": "ipython",
    "version": 3
   },
   "pygments_lexer": "ipython3",
   "nbconvert_exporter": "python",
   "file_extension": ".py"
  },
  "kernelspec": {
   "name": "python3",
   "display_name": "Python 3.8.5 64-bit ('.venv': poetry)"
  },
  "interpreter": {
   "hash": "5fb8dbd26c1cc528fe1daa81223d6c8ec234676fdd5b7c886a0b0382c466bb66"
  }
 },
 "nbformat": 4,
 "nbformat_minor": 2
}